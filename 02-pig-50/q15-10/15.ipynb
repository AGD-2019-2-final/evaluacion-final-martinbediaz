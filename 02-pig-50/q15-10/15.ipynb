{
 "cells": [
  {
   "cell_type": "code",
   "execution_count": 1,
   "metadata": {},
   "outputs": [],
   "source": [
    "%load_ext bigdata"
   ]
  },
  {
   "cell_type": "code",
   "execution_count": 2,
   "metadata": {},
   "outputs": [],
   "source": [
    "%timeout 300"
   ]
  },
  {
   "cell_type": "code",
   "execution_count": 3,
   "metadata": {},
   "outputs": [],
   "source": [
    "%pig_start"
   ]
  },
  {
   "cell_type": "code",
   "execution_count": 7,
   "metadata": {},
   "outputs": [
    {
     "name": "stdout",
     "output_type": "stream",
     "text": [
      " fs -rm output/*\n",
      "rm: `output/*': No such file or directory\n",
      " fs -rmdir  output\n",
      "rmdir: `output': No such file or directory\n",
      " fs -rm data.csv\n",
      "Deleted data.csv\n",
      " fs -put data.csv .\n",
      " u = LOAD 'data.csv' USING PigStorage(',') \n",
      "    AS (id:int, \n",
      "        firstname:CHARARRAY, \n",
      "        surname:CHARARRAY, \n",
      "        birthday:CHARARRAY, \n",
      "        color:CHARARRAY, \n",
      "        quantity:INT);\n",
      " A = FILTER u BY color MATCHES 'blue';\n",
      " B = FOREACH A GENERATE $1, $4, SUBSTRING($1, 0, 1);\n",
      " C = FILTER B BY $2 MATCHES 'Z';\n",
      " D = FOREACH C GENERATE $0, $1;\n",
      " --STORE D INTO 'output' USING PigStorage('\\r');\n",
      " DUMP D;   \n",
      "2020-02-16 01:33:27,940 [main] INFO  org.apache.hadoop.yarn.client.RMProxy - Connecting to ResourceManager at /0.0.0.0:8032\n",
      "2020-02-16 01:33:28,601 [JobControl] INFO  org.apache.hadoop.yarn.client.RMProxy - Connecting to ResourceManager at /0.0.0.0:8032\n",
      "2020-02-16 01:33:28,632 [JobControl] WARN  org.apache.hadoop.mapreduce.JobResourceUploader - No job jar file set.  User classes may not be found. See Job or Job#setJar(String).\n",
      "2020-02-16 01:33:28,653 [JobControl] INFO  org.apache.hadoop.mapreduce.lib.input.FileInputFormat - Total input files to process : 1\n",
      "2020-02-16 01:33:28,699 [JobControl] INFO  org.apache.hadoop.mapreduce.JobSubmitter - number of splits:1\n",
      "2020-02-16 01:33:28,750 [JobControl] INFO  org.apache.hadoop.mapreduce.JobSubmitter - Submitting tokens for job: job_1581803984332_0047\n",
      "2020-02-16 01:33:28,758 [JobControl] INFO  org.apache.hadoop.mapred.YARNRunner - Job jar is not present. Not adding any jar to the list of resources.\n",
      "2020-02-16 01:33:28,804 [JobControl] INFO  org.apache.hadoop.yarn.client.api.impl.YarnClientImpl - Submitted application application_1581803984332_0047\n",
      "2020-02-16 01:33:28,809 [JobControl] INFO  org.apache.hadoop.mapreduce.Job - The url to track the job: http://72a54844fdeb:8088/proxy/application_1581803984332_0047/\n",
      "2020-02-16 01:33:54,072 [main] INFO  org.apache.hadoop.yarn.client.RMProxy - Connecting to ResourceManager at /0.0.0.0:8032\n",
      "2020-02-16 01:33:54,107 [main] INFO  org.apache.hadoop.mapred.ClientServiceDelegate - Application state is completed. FinalApplicationStatus=SUCCEEDED. Redirecting to job history server\n",
      "2020-02-16 01:33:54,221 [main] INFO  org.apache.hadoop.yarn.client.RMProxy - Connecting to ResourceManager at /0.0.0.0:8032\n",
      "2020-02-16 01:33:54,230 [main] INFO  org.apache.hadoop.mapred.ClientServiceDelegate - Application state is completed. FinalApplicationStatus=SUCCEEDED. Redirecting to job history server\n",
      "2020-02-16 01:33:54,285 [main] INFO  org.apache.hadoop.yarn.client.RMProxy - Connecting to ResourceManager at /0.0.0.0:8032\n",
      "2020-02-16 01:33:54,291 [main] INFO  org.apache.hadoop.mapred.ClientServiceDelegate - Application state is completed. FinalApplicationStatus=SUCCEEDED. Redirecting to job history server\n",
      "2020-02-16 01:33:54,337 [main] INFO  org.apache.hadoop.yarn.client.RMProxy - Connecting to ResourceManager at /0.0.0.0:8032\n",
      "2020-02-16 01:33:54,344 [main] INFO  org.apache.hadoop.mapred.ClientServiceDelegate - Application state is completed. FinalApplicationStatus=SUCCEEDED. Redirecting to job history server\n",
      "2020-02-16 01:33:54,401 [main] INFO  org.apache.hadoop.yarn.client.RMProxy - Connecting to ResourceManager at /0.0.0.0:8032\n",
      "2020-02-16 01:33:54,409 [main] INFO  org.apache.hadoop.mapred.ClientServiceDelegate - Application state is completed. FinalApplicationStatus=SUCCEEDED. Redirecting to job history server\n",
      "2020-02-16 01:33:54,459 [main] INFO  org.apache.hadoop.yarn.client.RMProxy - Connecting to ResourceManager at /0.0.0.0:8032\n",
      "2020-02-16 01:33:54,468 [main] INFO  org.apache.hadoop.mapred.ClientServiceDelegate - Application state is completed. FinalApplicationStatus=SUCCEEDED. Redirecting to job history server\n",
      "2020-02-16 01:33:54,589 [main] INFO  org.apache.hadoop.mapreduce.lib.input.FileInputFormat - Total input files to process : 1\n",
      "(Zoe,blue)\n",
      " --C = FOREACH B GENERATE $0, ($1 > 0 ? '1' : '2' );\n",
      " --A = FOREACH u GENERATE color,COUNT(DIFF($1, 'b')), id;\n",
      " --A = FOREACH u GENERATE $2, FLATTEN(STRSPLIT($2,''));\n",
      " --B = FOREACH A GENERATE $0, COUNT(TOBAG($1..));\n",
      " --C = ORDER B BY $0 DESC;\n",
      " --D = ORDER C BY $1 DESC;\n",
      " --E= LIMIT D 5;\n",
      " --u = LOAD 'data.csv' USING PigStorage(',');\n",
      " --AS (f1:chararray, f2:BAG{t: TUPLE()}, f3:MAP[]);\n",
      " --B = FOREACH A GENERATE $0, $1;\n",
      " --grouped = GROUP B BY ($0, $1);\n",
      " --D = FOREACH grouped GENERATE group, COUNT(B);\n",
      " --USING PigStorage('\\t') \n",
      "'ddd', f3#'eee', f3#'fff',f3#'ggg',f3#'hhh',f3#'iii', f3#'jjj';#'ccc', f3# \n",
      " --B = FOREACH A GENERATE $0, $1, COUNT(TOBAG($2..));\n",
      " --C = ORDER B BY $0, $1, $2;\n",
      " --A = LOAD \"input\" USING PigStorage(\",\") AS(f1:int,f2:chararray);;\n",
      " --B = FOREACH A GENERATE f1, FLATTEN(STRSPLIT(f2,\"_\"));\n",
      " --C = FOREACH B GENERATE $0,COUNT(TOBAG($1..));\n",
      " --grouped = GROUP u BY $1;\n",
      " --x = FOREACH u GENERATE COUNT(TOKENIZE($1));\n",
      " --y = FOREACH u GENERATE $0, FLATTEN(TOKENIZE(REPLACE($1,'{', ' ')));\n",
      " --grouped = GROUP x BY $0;\n",
      " --keycount = FOREACH grouped GENERATE group, COUNT(x);\n"
     ]
    }
   ],
   "source": [
    "%%pig\n",
    "fs -rm output/*\n",
    "fs -rmdir  output\n",
    "fs -rm data.csv\n",
    "fs -put data.csv .\n",
    "u = LOAD 'data.csv' USING PigStorage(',') \n",
    "    AS (id:int, \n",
    "        firstname:CHARARRAY, \n",
    "        surname:CHARARRAY, \n",
    "        birthday:CHARARRAY, \n",
    "        color:CHARARRAY, \n",
    "        quantity:INT);\n",
    "A = FILTER u BY color MATCHES 'blue';\n",
    "B = FOREACH A GENERATE $1, $4, SUBSTRING($1, 0, 1);\n",
    "C = FILTER B BY $2 MATCHES 'Z';\n",
    "D = FOREACH C GENERATE $0, $1;\n",
    "--STORE D INTO 'output' USING PigStorage('\\r');\n",
    "DUMP D;   \n",
    "    \n",
    "--C = FOREACH B GENERATE $0, ($1 > 0 ? '1' : '2' );\n",
    "--A = FOREACH u GENERATE color,COUNT(DIFF($1, 'b')), id;\n",
    "--A = FOREACH u GENERATE $2, FLATTEN(STRSPLIT($2,''));\n",
    "--B = FOREACH A GENERATE $0, COUNT(TOBAG($1..));\n",
    "--C = ORDER B BY $0 DESC;\n",
    "--D = ORDER C BY $1 DESC;\n",
    "--E= LIMIT D 5;\n",
    "\n",
    "--u = LOAD 'data.csv' USING PigStorage(',');\n",
    "--AS (f1:chararray, f2:BAG{t: TUPLE()}, f3:MAP[]);\n",
    "--B = FOREACH A GENERATE $0, $1;\n",
    "--grouped = GROUP B BY ($0, $1);\n",
    "--D = FOREACH grouped GENERATE group, COUNT(B);\n",
    "--USING PigStorage('\\t') \n",
    "--A = FOREACH u GENERATE f1, COUNT(f2), f3#'aaa', f3#'bbb', f3#'ccc', f3#'ddd', f3#'eee', f3#'fff',f3#'ggg',f3#'hhh',f3#'iii', f3#'jjj';\n",
    "--B = FOREACH A GENERATE $0, $1, COUNT(TOBAG($2..));\n",
    "--C = ORDER B BY $0, $1, $2;\n",
    "--A = LOAD \"input\" USING PigStorage(\",\") AS(f1:int,f2:chararray);;\n",
    "--B = FOREACH A GENERATE f1, FLATTEN(STRSPLIT(f2,\"_\"));\n",
    "--C = FOREACH B GENERATE $0,COUNT(TOBAG($1..));\n",
    "--grouped = GROUP u BY $1;\n",
    "--x = FOREACH u GENERATE COUNT(TOKENIZE($1));\n",
    "--y = FOREACH u GENERATE $0, FLATTEN(TOKENIZE(REPLACE($1,'{', ' ')));\n",
    "--grouped = GROUP x BY $0;\n",
    "--keycount = FOREACH grouped GENERATE group, COUNT(x);"
   ]
  },
  {
   "cell_type": "code",
   "execution_count": 8,
   "metadata": {},
   "outputs": [],
   "source": [
    "%pig_quit"
   ]
  },
  {
   "cell_type": "code",
   "execution_count": null,
   "metadata": {},
   "outputs": [],
   "source": []
  }
 ],
 "metadata": {
  "kernelspec": {
   "display_name": "Python 3",
   "language": "python",
   "name": "python3"
  },
  "language_info": {
   "codemirror_mode": {
    "name": "ipython",
    "version": 3
   },
   "file_extension": ".py",
   "mimetype": "text/x-python",
   "name": "python",
   "nbconvert_exporter": "python",
   "pygments_lexer": "ipython3",
   "version": "3.6.9"
  }
 },
 "nbformat": 4,
 "nbformat_minor": 4
}
