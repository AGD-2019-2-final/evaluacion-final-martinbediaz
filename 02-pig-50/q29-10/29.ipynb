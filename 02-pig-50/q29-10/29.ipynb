{
 "cells": [
  {
   "cell_type": "code",
   "execution_count": 1,
   "metadata": {},
   "outputs": [],
   "source": [
    "%load_ext bigdata"
   ]
  },
  {
   "cell_type": "code",
   "execution_count": 2,
   "metadata": {},
   "outputs": [],
   "source": [
    "%timeout 300"
   ]
  },
  {
   "cell_type": "code",
   "execution_count": 3,
   "metadata": {},
   "outputs": [],
   "source": [
    "%pig_start"
   ]
  },
  {
   "cell_type": "code",
   "execution_count": 7,
   "metadata": {},
   "outputs": [
    {
     "name": "stdout",
     "output_type": "stream",
     "text": [
      " fs -rm output/*\n",
      "rm: `output/*': No such file or directory\n",
      " fs -rmdir  output\n",
      "rmdir: `output': No such file or directory\n",
      " fs -rm data.csv\n",
      "Deleted data.csv\n",
      " fs -put data.csv .\n",
      " u = LOAD 'data.csv' USING PigStorage(',') \n",
      "    AS (id:int, \n",
      "        firstname:CHARARRAY, \n",
      "        surname:CHARARRAY, \n",
      "        birthday:CHARARRAY, \n",
      "        color:CHARARRAY, \n",
      "        quantity:INT);\n",
      " A = FOREACH u GENERATE birthday,  (\n",
      "  CASE (INT)SUBSTRING(birthday, 5, 7)\n",
      "    WHEN 1 THEN 'ene'\n",
      "    WHEN 2 THEN 'feb'\n",
      "    WHEN 3 THEN 'mar'\n",
      "    WHEN 4 THEN 'abr'\n",
      "    WHEN 5 THEN 'may'\n",
      "    WHEN 6 THEN 'jun'\n",
      "    WHEN 7 THEN 'jul'\n",
      "    WHEN 8 THEN 'ago'\n",
      "    WHEN 9 THEN 'sep'\n",
      "    WHEN 10 THEN 'oct'\n",
      "    WHEN 11 THEN 'nov'\n",
      "    WHEN 12 THEN 'dic'\n",
      "  END\n",
      "), SUBSTRING(birthday, 5, 7), SUBSTRING(birthday, 5, 7);\n",
      " --STORE A INTO 'output' USING PigStorage('\\t');\n",
      " DUMP A;\n",
      "2020-02-16 05:52:15,682 [main] INFO  org.apache.hadoop.yarn.client.RMProxy - Connecting to ResourceManager at /0.0.0.0:8032\n",
      "2020-02-16 05:52:16,367 [JobControl] INFO  org.apache.hadoop.yarn.client.RMProxy - Connecting to ResourceManager at /0.0.0.0:8032\n",
      "2020-02-16 05:52:16,402 [JobControl] WARN  org.apache.hadoop.mapreduce.JobResourceUploader - No job jar file set.  User classes may not be found. See Job or Job#setJar(String).\n",
      "2020-02-16 05:52:16,430 [JobControl] INFO  org.apache.hadoop.mapreduce.lib.input.FileInputFormat - Total input files to process : 1\n",
      "2020-02-16 05:52:16,914 [JobControl] INFO  org.apache.hadoop.mapreduce.JobSubmitter - number of splits:1\n",
      "2020-02-16 05:52:17,004 [JobControl] INFO  org.apache.hadoop.mapreduce.JobSubmitter - Submitting tokens for job: job_1581824406475_0027\n",
      "2020-02-16 05:52:17,017 [JobControl] INFO  org.apache.hadoop.mapred.YARNRunner - Job jar is not present. Not adding any jar to the list of resources.\n",
      "2020-02-16 05:52:17,091 [JobControl] INFO  org.apache.hadoop.yarn.client.api.impl.YarnClientImpl - Submitted application application_1581824406475_0027\n",
      "2020-02-16 05:52:17,096 [JobControl] INFO  org.apache.hadoop.mapreduce.Job - The url to track the job: http://e052e21dffaf:8088/proxy/application_1581824406475_0027/\n",
      "2020-02-16 05:52:42,324 [main] INFO  org.apache.hadoop.yarn.client.RMProxy - Connecting to ResourceManager at /0.0.0.0:8032\n",
      "2020-02-16 05:52:42,354 [main] INFO  org.apache.hadoop.mapred.ClientServiceDelegate - Application state is completed. FinalApplicationStatus=SUCCEEDED. Redirecting to job history server\n",
      "2020-02-16 05:52:42,459 [main] INFO  org.apache.hadoop.yarn.client.RMProxy - Connecting to ResourceManager at /0.0.0.0:8032\n",
      "2020-02-16 05:52:42,466 [main] INFO  org.apache.hadoop.mapred.ClientServiceDelegate - Application state is completed. FinalApplicationStatus=SUCCEEDED. Redirecting to job history server\n",
      "2020-02-16 05:52:42,509 [main] INFO  org.apache.hadoop.yarn.client.RMProxy - Connecting to ResourceManager at /0.0.0.0:8032\n",
      "2020-02-16 05:52:42,515 [main] INFO  org.apache.hadoop.mapred.ClientServiceDelegate - Application state is completed. FinalApplicationStatus=SUCCEEDED. Redirecting to job history server\n",
      "2020-02-16 05:52:42,569 [main] INFO  org.apache.hadoop.yarn.client.RMProxy - Connecting to ResourceManager at /0.0.0.0:8032\n",
      "2020-02-16 05:52:42,574 [main] INFO  org.apache.hadoop.mapred.ClientServiceDelegate - Application state is completed. FinalApplicationStatus=SUCCEEDED. Redirecting to job history server\n",
      "2020-02-16 05:52:42,619 [main] INFO  org.apache.hadoop.yarn.client.RMProxy - Connecting to ResourceManager at /0.0.0.0:8032\n",
      "2020-02-16 05:52:42,628 [main] INFO  org.apache.hadoop.mapred.ClientServiceDelegate - Application state is completed. FinalApplicationStatus=SUCCEEDED. Redirecting to job history server\n",
      "2020-02-16 05:52:42,678 [main] INFO  org.apache.hadoop.yarn.client.RMProxy - Connecting to ResourceManager at /0.0.0.0:8032\n",
      "2020-02-16 05:52:42,684 [main] INFO  org.apache.hadoop.mapred.ClientServiceDelegate - Application state is completed. FinalApplicationStatus=SUCCEEDED. Redirecting to job history server\n",
      "2020-02-16 05:52:42,764 [main] INFO  org.apache.hadoop.mapreduce.lib.input.FileInputFormat - Total input files to process : 1\n",
      "(1971-07-08,jul,07,07)\n",
      "(1974-05-23,may,05,05)\n",
      "(1973-04-22,abr,04,04)\n",
      "(1975-01-29,ene,01,01)\n",
      "(1974-07-03,jul,07,07)\n",
      "(1974-10-18,oct,10,10)\n",
      "(1970-10-05,oct,10,10)\n",
      "(1969-02-24,feb,02,02)\n",
      "(1974-10-17,oct,10,10)\n",
      "(1975-02-28,feb,02,02)\n",
      "(1969-12-07,dic,12,12)\n",
      "(1973-12-24,dic,12,12)\n",
      "(1970-08-27,ago,08,08)\n",
      "(1972-12-12,dic,12,12)\n",
      "(1970-07-01,jul,07,07)\n",
      "(1974-02-11,feb,02,02)\n",
      "(1973-04-01,abr,04,04)\n",
      "(1973-04-29,abr,04,04)\n"
     ]
    }
   ],
   "source": [
    "%%pig\n",
    "fs -rm output/*\n",
    "fs -rmdir  output\n",
    "fs -rm data.csv\n",
    "fs -put data.csv .\n",
    "u = LOAD 'data.csv' USING PigStorage(',') \n",
    "    AS (id:int, \n",
    "        firstname:CHARARRAY, \n",
    "        surname:CHARARRAY, \n",
    "        birthday:CHARARRAY, \n",
    "        color:CHARARRAY, \n",
    "        quantity:INT);\n",
    "A = FOREACH u GENERATE birthday,  (\n",
    "  CASE (INT)SUBSTRING(birthday, 5, 7)\n",
    "    WHEN 1 THEN 'ene'\n",
    "    WHEN 2 THEN 'feb'\n",
    "    WHEN 3 THEN 'mar'\n",
    "    WHEN 4 THEN 'abr'\n",
    "    WHEN 5 THEN 'may'\n",
    "    WHEN 6 THEN 'jun'\n",
    "    WHEN 7 THEN 'jul'\n",
    "    WHEN 8 THEN 'ago'\n",
    "    WHEN 9 THEN 'sep'\n",
    "    WHEN 10 THEN 'oct'\n",
    "    WHEN 11 THEN 'nov'\n",
    "    WHEN 12 THEN 'dic'\n",
    "  END\n",
    "), SUBSTRING(birthday, 5, 7), SUBSTRING(birthday, 5, 7);\n",
    "--STORE A INTO 'output' USING PigStorage(',');\n",
    "DUMP A;"
   ]
  },
  {
   "cell_type": "code",
   "execution_count": 8,
   "metadata": {},
   "outputs": [],
   "source": [
    "%pig_quit"
   ]
  },
  {
   "cell_type": "code",
   "execution_count": null,
   "metadata": {},
   "outputs": [],
   "source": []
  }
 ],
 "metadata": {
  "kernelspec": {
   "display_name": "Python 3",
   "language": "python",
   "name": "python3"
  },
  "language_info": {
   "codemirror_mode": {
    "name": "ipython",
    "version": 3
   },
   "file_extension": ".py",
   "mimetype": "text/x-python",
   "name": "python",
   "nbconvert_exporter": "python",
   "pygments_lexer": "ipython3",
   "version": "3.6.9"
  }
 },
 "nbformat": 4,
 "nbformat_minor": 4
}
