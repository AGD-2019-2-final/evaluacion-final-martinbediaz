{
 "cells": [
  {
   "cell_type": "code",
   "execution_count": 1,
   "metadata": {},
   "outputs": [],
   "source": [
    "%load_ext bigdata"
   ]
  },
  {
   "cell_type": "code",
   "execution_count": 2,
   "metadata": {},
   "outputs": [],
   "source": [
    "%timeout 300"
   ]
  },
  {
   "cell_type": "code",
   "execution_count": 3,
   "metadata": {},
   "outputs": [],
   "source": [
    "%pig_start"
   ]
  },
  {
   "cell_type": "code",
   "execution_count": 9,
   "metadata": {},
   "outputs": [
    {
     "name": "stdout",
     "output_type": "stream",
     "text": [
      " fs -rm output/*\n",
      "rm: `output/*': No such file or directory\n",
      " fs -rmdir  output\n",
      "rmdir: `output': No such file or directory\n",
      " fs -rm data.csv\n",
      "Deleted data.csv\n",
      " fs -put data.csv .\n",
      " u = LOAD 'data.csv' USING PigStorage(',') \n",
      "    AS (id:int, \n",
      "        firstname:CHARARRAY, \n",
      "        surname:CHARARRAY, \n",
      "        birthday:CHARARRAY, \n",
      "        color:CHARARRAY, \n",
      "        quantity:INT);\n",
      " A = FOREACH u GENERATE birthday, (\n",
      "     CASE ToDate(birthday, 'ddd')\n",
      "        WHEN 'Mon' THEN 'lunes'\n",
      "        WHEN 'Tue' THEN 'martes'\n",
      "        WHEN 'Wed' THEN 'miercoles'\n",
      "        WHEN 'Thu' THEN 'jueves'\n",
      "        WHEN 'Fri' THEN 'viernes'\n",
      "        WHEN 'Sat' THEN 'sabado'\n",
      "        WHEN 'Sun' THEN 'domingo'\n",
      "    END\n",
      ");\n",
      "2020-02-16 06:14:58,603 [main] ERROR org.apache.pig.tools.grunt.Grunt - ERROR 1039: (Name: Equal Type: null Uid: null)incompatible types in Equal Operator left hand side:datetime right hand side:chararray\n",
      "Details at logfile: /datalake/evaluacion-final-martinbediaz/02-pig-50/q30-10/pig_1581832452028.log\n",
      "ING($0, 8, 10), SUBSTRING($1, 0, 3), $1; 10), SUBSTRING($0, 8, 10), SUBSTR \n",
      "2020-02-16 06:14:58,676 [main] ERROR org.apache.pig.tools.grunt.Grunt - ERROR 1200: Pig script failed to parse: <line 43, column 12> Undefined alias: A\n",
      "Details at logfile: /datalake/evaluacion-final-martinbediaz/02-pig-50/q30-10/pig_1581832452028.log\n",
      " --STORE B INTO 'output' USING PigStorage('\\t');\n",
      " DUMP B;\n",
      "2020-02-16 06:14:59,087 [main] ERROR org.apache.pig.tools.grunt.Grunt - ERROR 1003: Unable to find an operator for alias B\n",
      "Details at logfile: /datalake/evaluacion-final-martinbediaz/02-pig-50/q30-10/pig_1581832452028.log\n"
     ]
    }
   ],
   "source": [
    "%%pig\n",
    "fs -rm output/*\n",
    "fs -rmdir  output\n",
    "fs -rm data.csv\n",
    "fs -put data.csv .\n",
    "u = LOAD 'data.csv' USING PigStorage(',') \n",
    "    AS (id:int, \n",
    "        firstname:CHARARRAY, \n",
    "        surname:CHARARRAY, \n",
    "        birthday:CHARARRAY, \n",
    "        color:CHARARRAY, \n",
    "        quantity:INT);\n",
    "A = FOREACH u GENERATE birthday, (\n",
    "     CASE ToDate(birthday, 'ddd')\n",
    "        WHEN 'Mon' THEN 'lunes'\n",
    "        WHEN 'Tue' THEN 'martes'\n",
    "        WHEN 'Wed' THEN 'miercoles'\n",
    "        WHEN 'Thu' THEN 'jueves'\n",
    "        WHEN 'Fri' THEN 'viernes'\n",
    "        WHEN 'Sat' THEN 'sabado'\n",
    "        WHEN 'Sun' THEN 'domingo'\n",
    "    END\n",
    ");\n",
    "B = FOREACH A GENERATE SUBSTRING($0, 0, 10), SUBSTRING($0, 8, 10), SUBSTRING($0, 8, 10), SUBSTRING($1, 0, 3), $1;\n",
    "--STORE B INTO 'output' USING PigStorage('\\t');\n",
    "DUMP B;"
   ]
  },
  {
   "cell_type": "code",
   "execution_count": 10,
   "metadata": {},
   "outputs": [],
   "source": [
    "%pig_quit"
   ]
  },
  {
   "cell_type": "code",
   "execution_count": null,
   "metadata": {},
   "outputs": [],
   "source": []
  }
 ],
 "metadata": {
  "kernelspec": {
   "display_name": "Python 3",
   "language": "python",
   "name": "python3"
  },
  "language_info": {
   "codemirror_mode": {
    "name": "ipython",
    "version": 3
   },
   "file_extension": ".py",
   "mimetype": "text/x-python",
   "name": "python",
   "nbconvert_exporter": "python",
   "pygments_lexer": "ipython3",
   "version": "3.6.9"
  }
 },
 "nbformat": 4,
 "nbformat_minor": 4
}
