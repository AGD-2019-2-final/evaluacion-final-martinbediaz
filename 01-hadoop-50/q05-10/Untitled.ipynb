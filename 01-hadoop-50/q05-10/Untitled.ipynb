{
 "cells": [
  {
   "cell_type": "code",
   "execution_count": 2,
   "metadata": {},
   "outputs": [
    {
     "data": {
      "text/html": [
       "<div>\n",
       "<style scoped>\n",
       "    .dataframe tbody tr th:only-of-type {\n",
       "        vertical-align: middle;\n",
       "    }\n",
       "\n",
       "    .dataframe tbody tr th {\n",
       "        vertical-align: top;\n",
       "    }\n",
       "\n",
       "    .dataframe thead th {\n",
       "        text-align: right;\n",
       "    }\n",
       "</style>\n",
       "<table border=\"1\" class=\"dataframe\">\n",
       "  <thead>\n",
       "    <tr style=\"text-align: right;\">\n",
       "      <th></th>\n",
       "      <th>B   1999-08-28   14</th>\n",
       "    </tr>\n",
       "  </thead>\n",
       "  <tbody>\n",
       "    <tr>\n",
       "      <th>0</th>\n",
       "      <td>E   1999-12-06   12</td>\n",
       "    </tr>\n",
       "    <tr>\n",
       "      <th>1</th>\n",
       "      <td>E   1993-07-21   17</td>\n",
       "    </tr>\n",
       "    <tr>\n",
       "      <th>2</th>\n",
       "      <td>C   1991-02-12   13</td>\n",
       "    </tr>\n",
       "    <tr>\n",
       "      <th>3</th>\n",
       "      <td>E   1995-04-25   16</td>\n",
       "    </tr>\n",
       "    <tr>\n",
       "      <th>4</th>\n",
       "      <td>A   1992-08-22   14</td>\n",
       "    </tr>\n",
       "  </tbody>\n",
       "</table>\n",
       "</div>"
      ],
      "text/plain": [
       "   B   1999-08-28   14\n",
       "0  E   1999-12-06   12\n",
       "1  E   1993-07-21   17\n",
       "2  C   1991-02-12   13\n",
       "3  E   1995-04-25   16\n",
       "4  A   1992-08-22   14"
      ]
     },
     "execution_count": 2,
     "metadata": {},
     "output_type": "execute_result"
    }
   ],
   "source": [
    "import pandas as pd\n",
    "df_csv = pd.read_csv('data.csv')\n",
    "df_csv.head()"
   ]
  },
  {
   "cell_type": "code",
   "execution_count": 61,
   "metadata": {},
   "outputs": [
    {
     "name": "stdout",
     "output_type": "stream",
     "text": [
      "Overwriting mapper2.py\n"
     ]
    }
   ],
   "source": [
    "%%writefile mapper2.py\n",
    "#!/usr/bin/env python3\n",
    "import sys\n",
    "if __name__ == \"__main__\":\n",
    "    for line in sys.stdin:\n",
    "        cont=0\n",
    "        for word in line.split():\n",
    "            if cont==1:\n",
    "                ano,mes,dia=word.split(\"-\")\n",
    "                sys.stdout.write(\"{}\\t1\\n\".format(mes))\n",
    "            if(cont==2):\n",
    "                cont=0\n",
    "            cont+=1"
   ]
  },
  {
   "cell_type": "code",
   "execution_count": 62,
   "metadata": {},
   "outputs": [],
   "source": [
    "!chmod +x mapper2.py"
   ]
  },
  {
   "cell_type": "code",
   "execution_count": 63,
   "metadata": {},
   "outputs": [
    {
     "name": "stdout",
     "output_type": "stream",
     "text": [
      "08\t1\n",
      "12\t1\n",
      "07\t1\n",
      "02\t1\n",
      "04\t1\n",
      "08\t1\n",
      "06\t1\n",
      "01\t1\n",
      "09\t1\n",
      "05\t1\n",
      "02\t1\n",
      "04\t1\n",
      "10\t1\n",
      "02\t1\n",
      "09\t1\n",
      "08\t1\n",
      "12\t1\n",
      "08\t1\n",
      "11\t1\n",
      "04\t1\n",
      "12\t1\n",
      "01\t1\n",
      "09\t1\n",
      "03\t1\n",
      "10\t1\n",
      "08\t1\n",
      "01\t1\n",
      "02\t1\n",
      "09\t1\n",
      "05\t1\n",
      "09\t1\n",
      "02\t1\n",
      "01\t1\n",
      "07\t1\n",
      "09\t1\n",
      "07\t1\n",
      "10\t1\n",
      "09\t1\n",
      "10\t1\n",
      "10\t1\n"
     ]
    }
   ],
   "source": [
    "!cat ./data.csv | ./mapper2.py "
   ]
  },
  {
   "cell_type": "code",
   "execution_count": 66,
   "metadata": {},
   "outputs": [
    {
     "name": "stdout",
     "output_type": "stream",
     "text": [
      "Overwriting reducer2.py\n"
     ]
    }
   ],
   "source": [
    "%%writefile reducer2.py\n",
    "#!/usr/bin/env python3\n",
    "import sys\n",
    "if __name__ == '__main__':\n",
    "    curkey = None\n",
    "    total = 0\n",
    "    for line in sys.stdin:\n",
    "        key, val = line.split(\"\\t\")\n",
    "        val = int(val)\n",
    "        if key == curkey:\n",
    "            total+= val\n",
    "        else:\n",
    "            if curkey is not None:\n",
    "                sys.stdout.write(\"{}\\t{}\\n\".format(curkey, total))\n",
    "            curkey = key\n",
    "            total = val\n",
    "    sys.stdout.write(\"{}\\t{}\\n\".format(curkey, total))"
   ]
  },
  {
   "cell_type": "code",
   "execution_count": 67,
   "metadata": {},
   "outputs": [],
   "source": [
    "!chmod +x reducer2.py"
   ]
  },
  {
   "cell_type": "code",
   "execution_count": 68,
   "metadata": {},
   "outputs": [
    {
     "name": "stdout",
     "output_type": "stream",
     "text": [
      "01\t4\n",
      "02\t5\n",
      "03\t1\n",
      "04\t3\n",
      "05\t2\n",
      "06\t1\n",
      "07\t3\n",
      "08\t5\n",
      "09\t7\n",
      "10\t5\n",
      "11\t1\n",
      "12\t3\n"
     ]
    }
   ],
   "source": [
    "!cat ./data.csv | ./mapper2.py | sort | ./reducer2.py"
   ]
  },
  {
   "cell_type": "code",
   "execution_count": null,
   "metadata": {},
   "outputs": [],
   "source": []
  }
 ],
 "metadata": {
  "kernelspec": {
   "display_name": "Python 3",
   "language": "python",
   "name": "python3"
  },
  "language_info": {
   "codemirror_mode": {
    "name": "ipython",
    "version": 3
   },
   "file_extension": ".py",
   "mimetype": "text/x-python",
   "name": "python",
   "nbconvert_exporter": "python",
   "pygments_lexer": "ipython3",
   "version": "3.6.9"
  }
 },
 "nbformat": 4,
 "nbformat_minor": 4
}
