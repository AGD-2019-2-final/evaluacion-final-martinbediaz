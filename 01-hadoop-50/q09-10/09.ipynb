{
 "cells": [
  {
   "cell_type": "code",
   "execution_count": 1,
   "metadata": {},
   "outputs": [
    {
     "data": {
      "text/html": [
       "<div>\n",
       "<style scoped>\n",
       "    .dataframe tbody tr th:only-of-type {\n",
       "        vertical-align: middle;\n",
       "    }\n",
       "\n",
       "    .dataframe tbody tr th {\n",
       "        vertical-align: top;\n",
       "    }\n",
       "\n",
       "    .dataframe thead th {\n",
       "        text-align: right;\n",
       "    }\n",
       "</style>\n",
       "<table border=\"1\" class=\"dataframe\">\n",
       "  <thead>\n",
       "    <tr style=\"text-align: right;\">\n",
       "      <th></th>\n",
       "      <th>B   1999-08-28   14</th>\n",
       "    </tr>\n",
       "  </thead>\n",
       "  <tbody>\n",
       "    <tr>\n",
       "      <th>0</th>\n",
       "      <td>E   1999-12-06   121</td>\n",
       "    </tr>\n",
       "    <tr>\n",
       "      <th>1</th>\n",
       "      <td>E   1993-07-21   17</td>\n",
       "    </tr>\n",
       "    <tr>\n",
       "      <th>2</th>\n",
       "      <td>C   1991-02-12   2</td>\n",
       "    </tr>\n",
       "    <tr>\n",
       "      <th>3</th>\n",
       "      <td>E   1995-04-25   161</td>\n",
       "    </tr>\n",
       "    <tr>\n",
       "      <th>4</th>\n",
       "      <td>A   1992-08-22   14</td>\n",
       "    </tr>\n",
       "  </tbody>\n",
       "</table>\n",
       "</div>"
      ],
      "text/plain": [
       "    B   1999-08-28   14\n",
       "0  E   1999-12-06   121\n",
       "1   E   1993-07-21   17\n",
       "2    C   1991-02-12   2\n",
       "3  E   1995-04-25   161\n",
       "4   A   1992-08-22   14"
      ]
     },
     "execution_count": 1,
     "metadata": {},
     "output_type": "execute_result"
    }
   ],
   "source": [
    "import pandas as pd\n",
    "df_csv = pd.read_csv('data.csv')\n",
    "df_csv.head()"
   ]
  },
  {
   "cell_type": "code",
   "execution_count": 5,
   "metadata": {},
   "outputs": [
    {
     "name": "stdout",
     "output_type": "stream",
     "text": [
      "Overwriting mapper2.py\n"
     ]
    }
   ],
   "source": [
    "%%writefile mapper2.py\n",
    "#!/usr/bin/env python3\n",
    "import sys\n",
    "if __name__ == \"__main__\":\n",
    "    for line in sys.stdin:\n",
    "        letra,ano,valor=line.split()\n",
    "        sys.stdout.write(\"{}\\t{}\\t{}\\n\".format(letra,ano,valor))"
   ]
  },
  {
   "cell_type": "code",
   "execution_count": 6,
   "metadata": {},
   "outputs": [],
   "source": [
    "!chmod +x mapper2.py"
   ]
  },
  {
   "cell_type": "code",
   "execution_count": 80,
   "metadata": {},
   "outputs": [
    {
     "name": "stdout",
     "output_type": "stream",
     "text": [
      "A\t1988-04-27\t9\n",
      "A\t1990-07-22\t4\n",
      "A\t1990-08-31\t12\n",
      "A\t1990-09-05\t11\n",
      "A\t1990-09-26\t5\n",
      "A\t1990-10-06\t10\n",
      "A\t1992-08-22\t14\n",
      "A\t1992-09-19\t18\n",
      "A\t1993-01-11\t141\n",
      "A\t1993-05-08\t16\n"
     ]
    }
   ],
   "source": [
    "!cat ./data.csv | ./mapper2.py | sort | head"
   ]
  },
  {
   "cell_type": "code",
   "execution_count": 11,
   "metadata": {},
   "outputs": [
    {
     "data": {
      "text/plain": [
       "1"
      ]
     },
     "execution_count": 11,
     "metadata": {},
     "output_type": "execute_result"
    }
   ],
   "source": [
    "lista=[1]\n",
    "len(lista)"
   ]
  },
  {
   "cell_type": "code",
   "execution_count": 7,
   "metadata": {},
   "outputs": [
    {
     "name": "stdout",
     "output_type": "stream",
     "text": [
      "Overwriting reducer2.py\n"
     ]
    }
   ],
   "source": [
    "%%writefile reducer2.py\n",
    "#!/usr/bin/env python3\n",
    "import sys\n",
    "if __name__ == '__main__':\n",
    "    cont=0\n",
    "    curkey=None    \n",
    "    lista=[]\n",
    "    for line in sys.stdin:\n",
    "        cont+=1\n",
    "        key, ano, val = line.split(\"\\t\")\n",
    "        val=float(val)\n",
    "        \n",
    "        if cont==0:\n",
    "            lista=[line]\n",
    "        else:\n",
    "            lista.append(line)       \n",
    "    print(lista[0:1])"
   ]
  },
  {
   "cell_type": "code",
   "execution_count": 8,
   "metadata": {},
   "outputs": [],
   "source": [
    "!chmod +x reducer2.py"
   ]
  },
  {
   "cell_type": "code",
   "execution_count": 9,
   "metadata": {},
   "outputs": [
    {
     "name": "stdout",
     "output_type": "stream",
     "text": [
      "['A\\t1988-04-27\\t9\\n']\n"
     ]
    }
   ],
   "source": [
    "!cat ./data.csv | ./mapper2.py | sort | ./reducer2.py"
   ]
  },
  {
   "cell_type": "code",
   "execution_count": 192,
   "metadata": {},
   "outputs": [
    {
     "name": "stdout",
     "output_type": "stream",
     "text": [
      "Overwriting reducer2.py\n"
     ]
    }
   ],
   "source": [
    "%%writefile reducer2.py\n",
    "#!/usr/bin/env python3\n",
    "import sys\n",
    "if __name__ == '__main__':\n",
    "    cont=0\n",
    "    curkey=None    \n",
    "    lista=[]\n",
    "    aux=[]\n",
    "    for line in sys.stdin:\n",
    "        key, ano, val = line.split(\"\\t\")\n",
    "        val=int(val)\n",
    "        \n",
    "        if cont==0:\n",
    "            lista.append(line)\n",
    "        else:\n",
    "            cont2=0\n",
    "            aux=line\n",
    "            for i in lista:\n",
    "                x=i.split(\"\\t\")\n",
    "                #print(x[2].strip(), val)\n",
    "                if int(x[2].strip()) > val:\n",
    "                    aux=lista[cont2]\n",
    "                    lista[cont2]=line     \n",
    "                    y=aux.split('\\t')\n",
    "                    val=int(y[2].strip())\n",
    "                    line=aux\n",
    "                cont2+=1\n",
    "            lista.append(aux)\n",
    "            #print(lista)\n",
    "        cont+=1\n",
    "    cont=0\n",
    "    for datos in lista:\n",
    "        datos=datos.split(\"\\t\")\n",
    "        if cont<6:\n",
    "            sys.stdout.write(\"{}\\t{}\\t{}\".format(datos[0], datos[1], datos[2]))\n",
    "        cont+=1\n",
    "        #print(datos)"
   ]
  },
  {
   "cell_type": "code",
   "execution_count": 193,
   "metadata": {},
   "outputs": [],
   "source": [
    "!chmod +x reducer2.py"
   ]
  },
  {
   "cell_type": "code",
   "execution_count": 194,
   "metadata": {},
   "outputs": [
    {
     "name": "stdout",
     "output_type": "stream",
     "text": [
      "C\t1994-07-27\t1\n",
      "C\t1991-02-12\t2\n",
      "A\t1990-07-22\t4\n",
      "A\t1990-09-26\t5\n",
      "B\t1997-04-09\t6\n",
      "E\t1998-09-14\t7\n"
     ]
    }
   ],
   "source": [
    "!cat ./data.csv | ./mapper2.py | sort | ./reducer2.py"
   ]
  },
  {
   "cell_type": "code",
   "execution_count": null,
   "metadata": {},
   "outputs": [],
   "source": []
  },
  {
   "cell_type": "code",
   "execution_count": null,
   "metadata": {},
   "outputs": [],
   "source": []
  }
 ],
 "metadata": {
  "kernelspec": {
   "display_name": "Python 3",
   "language": "python",
   "name": "python3"
  },
  "language_info": {
   "codemirror_mode": {
    "name": "ipython",
    "version": 3
   },
   "file_extension": ".py",
   "mimetype": "text/x-python",
   "name": "python",
   "nbconvert_exporter": "python",
   "pygments_lexer": "ipython3",
   "version": "3.6.9"
  }
 },
 "nbformat": 4,
 "nbformat_minor": 4
}
