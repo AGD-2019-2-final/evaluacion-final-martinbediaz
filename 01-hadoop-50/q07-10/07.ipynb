{
 "cells": [
  {
   "cell_type": "code",
   "execution_count": 1,
   "metadata": {},
   "outputs": [
    {
     "data": {
      "text/html": [
       "<div>\n",
       "<style scoped>\n",
       "    .dataframe tbody tr th:only-of-type {\n",
       "        vertical-align: middle;\n",
       "    }\n",
       "\n",
       "    .dataframe tbody tr th {\n",
       "        vertical-align: top;\n",
       "    }\n",
       "\n",
       "    .dataframe thead th {\n",
       "        text-align: right;\n",
       "    }\n",
       "</style>\n",
       "<table border=\"1\" class=\"dataframe\">\n",
       "  <thead>\n",
       "    <tr style=\"text-align: right;\">\n",
       "      <th></th>\n",
       "      <th>E   1990-05-03   16\\t</th>\n",
       "    </tr>\n",
       "  </thead>\n",
       "  <tbody>\n",
       "    <tr>\n",
       "      <th>0</th>\n",
       "      <td>A   1992-09-19   9\\t</td>\n",
       "    </tr>\n",
       "    <tr>\n",
       "      <th>1</th>\n",
       "      <td>A   1990-10-06   10\\t</td>\n",
       "    </tr>\n",
       "    <tr>\n",
       "      <th>2</th>\n",
       "      <td>E   1994-02-14   10\\t</td>\n",
       "    </tr>\n",
       "    <tr>\n",
       "      <th>3</th>\n",
       "      <td>E   1999-09-10   11\\t</td>\n",
       "    </tr>\n",
       "    <tr>\n",
       "      <th>4</th>\n",
       "      <td>A   1992-08-22   16\\t</td>\n",
       "    </tr>\n",
       "  </tbody>\n",
       "</table>\n",
       "</div>"
      ],
      "text/plain": [
       "   E   1990-05-03   16\\t\n",
       "0   A   1992-09-19   9\\t\n",
       "1  A   1990-10-06   10\\t\n",
       "2  E   1994-02-14   10\\t\n",
       "3  E   1999-09-10   11\\t\n",
       "4  A   1992-08-22   16\\t"
      ]
     },
     "execution_count": 1,
     "metadata": {},
     "output_type": "execute_result"
    }
   ],
   "source": [
    "import pandas as pd\n",
    "df_csv = pd.read_csv('data.csv')\n",
    "df_csv.head()"
   ]
  },
  {
   "cell_type": "code",
   "execution_count": 44,
   "metadata": {},
   "outputs": [
    {
     "name": "stdout",
     "output_type": "stream",
     "text": [
      "Overwriting mapper2.py\n"
     ]
    }
   ],
   "source": [
    "%%writefile mapper2.py\n",
    "#!/usr/bin/env python3\n",
    "import sys\n",
    "if __name__ == \"__main__\":\n",
    "    for line in sys.stdin:\n",
    "        letra,ano,valor=line.split()\n",
    "        valor=int(valor)\n",
    "        sys.stdout.write(\"{}\\t{}\\t{}\\n\".format(letra,valor,ano))"
   ]
  },
  {
   "cell_type": "code",
   "execution_count": 45,
   "metadata": {},
   "outputs": [],
   "source": [
    "!chmod +x mapper2.py"
   ]
  },
  {
   "cell_type": "code",
   "execution_count": 46,
   "metadata": {},
   "outputs": [
    {
     "name": "stdout",
     "output_type": "stream",
     "text": [
      "A\t0\t1990-07-22\n",
      "A\t10\t1990-10-06\n",
      "A\t11\t1990-09-05\n",
      "A\t12\t1990-08-31\n",
      "A\t121\t1988-04-27\n",
      "A\t13\t1997-12-15\n",
      "A\t14\t1994-10-25\n",
      "A\t15\t1993-01-11\n",
      "A\t16\t1992-08-22\n",
      "A\t17\t1993-05-08\n",
      "A\t8\t1990-09-26\n",
      "A\t9\t1992-09-19\n",
      "B\t1\t1995-08-23\n",
      "B\t121\t1999-06-11\n",
      "B\t13\t1999-10-21\n",
      "B\t131\t1998-11-22\n",
      "B\t14\t1997-04-09\n",
      "B\t15\t1995-09-06\n",
      "B\t16\t1993-03-02\n",
      "B\t17\t1999-08-28\n",
      "B\t18\t1994-08-30\n",
      "B\t9\t1991-10-01\n",
      "C\t10\t1994-01-25\n",
      "C\t104\t1994-07-27\n",
      "C\t13\t1991-02-12\n",
      "C\t15\t1994-09-09\n",
      "D\t15\t1990-10-10\n",
      "E\t10\t1994-02-14\n",
      "E\t11\t1999-09-10\n",
      "E\t12\t1999-12-06\n",
      "E\t141\t1991-02-18\n",
      "E\t15\t1999-01-14\n",
      "E\t16\t1990-05-03\n",
      "E\t17\t1985-02-12\n",
      "E\t18\t1990-02-09\n",
      "E\t19\t1993-12-27\n",
      "E\t2\t1998-09-14\n",
      "E\t3\t1995-04-25\n",
      "E\t4\t1993-07-21\n",
      "E\t9\t1993-01-27\n"
     ]
    }
   ],
   "source": [
    "!cat ./data.csv | ./mapper2.py | sort"
   ]
  },
  {
   "cell_type": "code",
   "execution_count": null,
   "metadata": {},
   "outputs": [],
   "source": []
  },
  {
   "cell_type": "code",
   "execution_count": 4,
   "metadata": {},
   "outputs": [
    {
     "name": "stdout",
     "output_type": "stream",
     "text": [
      "Overwriting reducer2.py\n"
     ]
    }
   ],
   "source": [
    "%%writefile reducer2.py\n",
    "#!/usr/bin/env python3\n",
    "import sys\n",
    "if __name__ == '__main__':\n",
    "    cont=0\n",
    "    curkey=None    \n",
    "    lista=[]\n",
    "    aux=[]\n",
    "    inicio=0\n",
    "    for line in sys.stdin:\n",
    "        key, val, ano = line.split(\"\\t\")\n",
    "        val=int(val)        \n",
    "        if key == curkey:\n",
    "            aux=line\n",
    "            for i in range(inicio,len(lista)):\n",
    "                x=lista[i].split(\"\\t\")   \n",
    "                if int(x[1]) > val:\n",
    "                    aux=lista[i]\n",
    "                    lista[i]=line     \n",
    "                    y=aux.split('\\t')\n",
    "                    val=int(y[1])\n",
    "                    line=aux\n",
    "            #lista.append(aux)  \n",
    "            lista.append(line) \n",
    "        else:\n",
    "            lista.append(line)\n",
    "            curkey = key\n",
    "            inicio=cont\n",
    "        cont+=1  \n",
    "    for datos in lista:\n",
    "        datos=datos.split(\"\\t\")\n",
    "        sys.stdout.write(\"{}\\t{}\\t{}\\n\".format(datos[0], datos[2].strip(), datos[1]))"
   ]
  },
  {
   "cell_type": "code",
   "execution_count": 5,
   "metadata": {},
   "outputs": [],
   "source": [
    "!chmod +x reducer2.py"
   ]
  },
  {
   "cell_type": "code",
   "execution_count": 6,
   "metadata": {},
   "outputs": [
    {
     "name": "stdout",
     "output_type": "stream",
     "text": [
      "A\t1990-07-22\t0\n",
      "A\t1990-09-26\t8\n",
      "A\t1992-09-19\t9\n",
      "A\t1990-10-06\t10\n",
      "A\t1990-09-05\t11\n",
      "A\t1990-08-31\t12\n",
      "A\t1997-12-15\t13\n",
      "A\t1994-10-25\t14\n",
      "A\t1993-01-11\t15\n",
      "A\t1992-08-22\t16\n",
      "A\t1993-05-08\t17\n",
      "A\t1988-04-27\t121\n",
      "B\t1995-08-23\t1\n",
      "B\t1991-10-01\t9\n",
      "B\t1999-10-21\t13\n",
      "B\t1997-04-09\t14\n",
      "B\t1995-09-06\t15\n",
      "B\t1993-03-02\t16\n",
      "B\t1999-08-28\t17\n",
      "B\t1994-08-30\t18\n",
      "B\t1999-06-11\t121\n",
      "B\t1998-11-22\t131\n",
      "C\t1994-01-25\t10\n",
      "C\t1991-02-12\t13\n",
      "C\t1994-09-09\t15\n",
      "C\t1994-07-27\t104\n",
      "D\t1990-10-10\t15\n",
      "E\t1998-09-14\t2\n",
      "E\t1995-04-25\t3\n",
      "E\t1993-07-21\t4\n",
      "E\t1993-01-27\t9\n",
      "E\t1994-02-14\t10\n",
      "E\t1999-09-10\t11\n",
      "E\t1999-12-06\t12\n",
      "E\t1999-01-14\t15\n",
      "E\t1990-05-03\t16\n",
      "E\t1985-02-12\t17\n",
      "E\t1990-02-09\t18\n",
      "E\t1993-12-27\t19\n",
      "E\t1991-02-18\t141\n"
     ]
    }
   ],
   "source": [
    "!cat ./data.csv | ./mapper2.py | sort | ./reducer2.py"
   ]
  },
  {
   "cell_type": "code",
   "execution_count": null,
   "metadata": {},
   "outputs": [],
   "source": []
  },
  {
   "cell_type": "code",
   "execution_count": null,
   "metadata": {},
   "outputs": [],
   "source": []
  }
 ],
 "metadata": {
  "kernelspec": {
   "display_name": "Python 3",
   "language": "python",
   "name": "python3"
  },
  "language_info": {
   "codemirror_mode": {
    "name": "ipython",
    "version": 3
   },
   "file_extension": ".py",
   "mimetype": "text/x-python",
   "name": "python",
   "nbconvert_exporter": "python",
   "pygments_lexer": "ipython3",
   "version": "3.6.9"
  }
 },
 "nbformat": 4,
 "nbformat_minor": 4
}
