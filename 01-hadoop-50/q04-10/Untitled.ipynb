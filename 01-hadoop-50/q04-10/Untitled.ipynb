{
 "cells": [
  {
   "cell_type": "code",
   "execution_count": 23,
   "metadata": {},
   "outputs": [
    {
     "name": "stdout",
     "output_type": "stream",
     "text": [
      "Overwriting mapper2.py\n"
     ]
    }
   ],
   "source": [
    "%%writefile mapper2.py\n",
    "#!/usr/bin/env python3\n",
    "import sys\n",
    "if __name__ == \"__main__\":\n",
    "    for line in sys.stdin:\n",
    "        ##line=line.rstrip()\n",
    "        val,key = line.split(\"\\t\")\n",
    "        sys.stdout.write(\"{}\\t{}\\n\".format(key,val))"
   ]
  },
  {
   "cell_type": "code",
   "execution_count": 24,
   "metadata": {},
   "outputs": [],
   "source": [
    "!chmod +x mapper2.py"
   ]
  },
  {
   "cell_type": "code",
   "execution_count": 25,
   "metadata": {},
   "outputs": [
    {
     "name": "stdout",
     "output_type": "stream",
     "text": [
      "Overwriting reducer2.py\n"
     ]
    }
   ],
   "source": [
    "%%writefile reducer2.py\n",
    "#!/usr/bin/env python3\n",
    "import sys\n",
    "if __name__ == '__main__':\n",
    "    for line in sys.stdin:\n",
    "        line=line.rstrip()\n",
    "        key, val = line.split(\"\\t\")\n",
    "        sys.stdout.write(\"{},{}\\n\".format(val,key))"
   ]
  },
  {
   "cell_type": "code",
   "execution_count": 26,
   "metadata": {},
   "outputs": [],
   "source": [
    "!chmod +x reducer2.py"
   ]
  },
  {
   "cell_type": "code",
   "execution_count": 28,
   "metadata": {},
   "outputs": [
    {
     "name": "stdout",
     "output_type": "stream",
     "text": [
      "B   1999-08-28   14\n",
      "E   1999-12-06   12\n",
      "E   1993-07-21   17\n",
      "C   1991-02-12   13\n",
      "E   1995-04-25   16\n",
      "A   1992-08-22   14\n",
      "B   1999-06-11   12\n",
      "E   1993-01-27   13\n",
      "E   1999-09-10   11\n",
      "E   1990-05-03   16\n",
      "E   1994-02-14   10\n",
      "A   1988-04-27   12\n",
      "A   1990-10-06   10\n",
      "E   1985-02-12   16\n",
      "E   1998-09-14   16\n",
      "B   1994-08-30   17\n",
      "A   1997-12-15   13\n",
      "B   1995-08-23   10\n",
      "B   1998-11-22   13\n",
      "B   1997-04-09   14\n",
      "E   1993-12-27   18\n",
      "E   1999-01-14   15\n",
      "A   1992-09-19   18\n",
      "B   1993-03-02   14\n",
      "B   1999-10-21   13\n",
      "A   1990-08-31   12\n",
      "C   1994-01-25   10\n",
      "E   1990-02-09   18\n",
      "A   1990-09-26   14\n",
      "A   1993-05-08   16\n",
      "B   1995-09-06   14\n",
      "E   1991-02-18   14\n",
      "A   1993-01-11   14\n",
      "A   1990-07-22   18\n",
      "C   1994-09-09   15\n",
      "C   1994-07-27   10\n",
      "D   1990-10-10   15\n",
      "A   1990-09-05   11\n",
      "B   1991-10-01   15\n",
      "A   1994-10-25   13"
     ]
    }
   ],
   "source": [
    "!cat ./data.csv"
   ]
  },
  {
   "cell_type": "code",
   "execution_count": null,
   "metadata": {},
   "outputs": [],
   "source": []
  }
 ],
 "metadata": {
  "kernelspec": {
   "display_name": "Python 3",
   "language": "python",
   "name": "python3"
  },
  "language_info": {
   "codemirror_mode": {
    "name": "ipython",
    "version": 3
   },
   "file_extension": ".py",
   "mimetype": "text/x-python",
   "name": "python",
   "nbconvert_exporter": "python",
   "pygments_lexer": "ipython3",
   "version": "3.6.9"
  }
 },
 "nbformat": 4,
 "nbformat_minor": 4
}
