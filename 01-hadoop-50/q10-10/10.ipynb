{
 "cells": [
  {
   "cell_type": "code",
   "execution_count": 10,
   "metadata": {},
   "outputs": [
    {
     "name": "stderr",
     "output_type": "stream",
     "text": [
      "b'Skipping line 8: expected 7 fields, saw 8\\nSkipping line 10: expected 7 fields, saw 8\\nSkipping line 13: expected 7 fields, saw 8\\nSkipping line 16: expected 7 fields, saw 8\\nSkipping line 21: expected 7 fields, saw 8\\nSkipping line 27: expected 7 fields, saw 8\\nSkipping line 30: expected 7 fields, saw 8\\n'\n"
     ]
    },
    {
     "data": {
      "text/html": [
       "<div>\n",
       "<style scoped>\n",
       "    .dataframe tbody tr th:only-of-type {\n",
       "        vertical-align: middle;\n",
       "    }\n",
       "\n",
       "    .dataframe tbody tr th {\n",
       "        vertical-align: top;\n",
       "    }\n",
       "\n",
       "    .dataframe thead th {\n",
       "        text-align: right;\n",
       "    }\n",
       "</style>\n",
       "<table border=\"1\" class=\"dataframe\">\n",
       "  <thead>\n",
       "    <tr style=\"text-align: right;\">\n",
       "      <th></th>\n",
       "      <th>0</th>\n",
       "      <th>1</th>\n",
       "      <th>2</th>\n",
       "      <th>3</th>\n",
       "      <th>4</th>\n",
       "      <th>5</th>\n",
       "      <th>6</th>\n",
       "    </tr>\n",
       "  </thead>\n",
       "  <tbody>\n",
       "    <tr>\n",
       "      <th>0</th>\n",
       "      <td>0\\tC</td>\n",
       "      <td>F</td>\n",
       "      <td>A</td>\n",
       "      <td>B</td>\n",
       "      <td>D</td>\n",
       "      <td>I</td>\n",
       "      <td>H</td>\n",
       "    </tr>\n",
       "    <tr>\n",
       "      <th>1</th>\n",
       "      <td>1\\tA</td>\n",
       "      <td>H</td>\n",
       "      <td>C</td>\n",
       "      <td>I</td>\n",
       "      <td>F</td>\n",
       "      <td>D</td>\n",
       "      <td>B</td>\n",
       "    </tr>\n",
       "    <tr>\n",
       "      <th>2</th>\n",
       "      <td>2\\tB</td>\n",
       "      <td>H</td>\n",
       "      <td>I</td>\n",
       "      <td>F</td>\n",
       "      <td>G</td>\n",
       "      <td>NaN</td>\n",
       "      <td>NaN</td>\n",
       "    </tr>\n",
       "    <tr>\n",
       "      <th>3</th>\n",
       "      <td>3\\tC</td>\n",
       "      <td>B</td>\n",
       "      <td>D</td>\n",
       "      <td>NaN</td>\n",
       "      <td>NaN</td>\n",
       "      <td>NaN</td>\n",
       "      <td>NaN</td>\n",
       "    </tr>\n",
       "    <tr>\n",
       "      <th>4</th>\n",
       "      <td>4\\tD</td>\n",
       "      <td>C</td>\n",
       "      <td>I</td>\n",
       "      <td>G</td>\n",
       "      <td>H</td>\n",
       "      <td>NaN</td>\n",
       "      <td>NaN</td>\n",
       "    </tr>\n",
       "  </tbody>\n",
       "</table>\n",
       "</div>"
      ],
      "text/plain": [
       "      0  1  2    3    4    5    6\n",
       "0  0\\tC  F  A    B    D    I    H\n",
       "1  1\\tA  H  C    I    F    D    B\n",
       "2  2\\tB  H  I    F    G  NaN  NaN\n",
       "3  3\\tC  B  D  NaN  NaN  NaN  NaN\n",
       "4  4\\tD  C  I    G    H  NaN  NaN"
      ]
     },
     "execution_count": 10,
     "metadata": {},
     "output_type": "execute_result"
    }
   ],
   "source": [
    "import pandas as pd\n",
    "df_csv = pd.read_csv('data.csv', error_bad_lines=False, header=None)\n",
    "df_csv.head()"
   ]
  },
  {
   "cell_type": "code",
   "execution_count": 147,
   "metadata": {},
   "outputs": [
    {
     "name": "stdout",
     "output_type": "stream",
     "text": [
      "Overwriting mapper2.py\n"
     ]
    }
   ],
   "source": [
    "%%writefile mapper2.py\n",
    "#!/usr/bin/env python3\n",
    "import sys\n",
    "if __name__ == \"__main__\":\n",
    "    for line in sys.stdin:\n",
    "        x,y=line.split()\n",
    "        sys.stdout.write(\"{}\\t{}\\n\".format(x,y))"
   ]
  },
  {
   "cell_type": "code",
   "execution_count": 148,
   "metadata": {},
   "outputs": [],
   "source": [
    "!chmod +x mapper2.py"
   ]
  },
  {
   "cell_type": "code",
   "execution_count": 149,
   "metadata": {},
   "outputs": [
    {
     "name": "stdout",
     "output_type": "stream",
     "text": [
      "0\tC,F,A,B,D,I,H\n",
      "1\tA,H,C,I,F,D,B\n",
      "10\tD,B,A,C,H\n",
      "11\tG,D,B,H,I,C,F\n",
      "12\tD,D,C,F,B,A,H,G\n",
      "13\tF,A,D\n",
      "14\tD,A,C,G\n",
      "15\tH,A,F,D,B,C,G,I\n",
      "16\tA,I,B,D\n",
      "17\tC,B,G,A,D,H,F\n",
      "18\tI,B,A,H,D,F\n",
      "19\tB,D,F,D,I\n",
      "2\tB,H,I,F,G\n",
      "20\tC,B,H,F,I,G,D,D\n",
      "21\tF,A,B,C,G,D\n",
      "22\tI,G,F,C,H,B\n",
      "23\tH,F,C,B,D,D,A\n",
      "24\tF,D,G,A,H\n",
      "25\tG,H,B,C,A,F,I\n",
      "26\tG,F,B,A,H,D,D,I\n",
      "27\tB,A,H,I,D,G,F\n",
      "28\tA,H,D,F,C\n",
      "29\tC,D,A,F,G,B,H,D\n",
      "3\tC,B,D\n",
      "4\tD,C,I,G,H\n",
      "5\tB,D,C,H,A\n",
      "6\tH,D,C,B,G,F,D\n",
      "7\tF,A,G,C,B,D,H,I\n",
      "8\tF,A,I,B,D\n",
      "9\tF,A,B,D,C,D,G,I\n"
     ]
    }
   ],
   "source": [
    "!cat ./data.csv | ./mapper2.py | sort"
   ]
  },
  {
   "cell_type": "code",
   "execution_count": 150,
   "metadata": {},
   "outputs": [
    {
     "name": "stdout",
     "output_type": "stream",
     "text": [
      "Overwriting reducer2.py\n"
     ]
    }
   ],
   "source": [
    "%%writefile reducer2.py\n",
    "#!/usr/bin/env python3\n",
    "import sys\n",
    "if __name__ == '__main__':\n",
    "    diccionario = {'A':[], 'B':[], 'C':[], 'D':[], 'F':[], 'G':[], 'H':[], 'I':[]}    \n",
    "    for line in sys.stdin:\n",
    "        x,y=line.split()\n",
    "        for i in y.split(','):\n",
    "            for key in diccionario:\n",
    "                if(i==key):\n",
    "                    lista=diccionario[key]\n",
    "                    lista.append(int(x))\n",
    "                    lista=sorted(lista)\n",
    "                    diccionario[key]=lista\n",
    "           \n",
    "    for key in diccionario:\n",
    "        datos=','.join(str(e) for e in diccionario[key])\n",
    "        print(key+\"\\t\"+datos)\n",
    "        #sys.stdout.write(\"{}\\t{}\\n\".format(key, datos)"
   ]
  },
  {
   "cell_type": "code",
   "execution_count": 151,
   "metadata": {},
   "outputs": [],
   "source": [
    "!chmod +x reducer2.py"
   ]
  },
  {
   "cell_type": "code",
   "execution_count": 152,
   "metadata": {},
   "outputs": [
    {
     "name": "stdout",
     "output_type": "stream",
     "text": [
      "A\t0,1,5,7,8,9,10,12,13,14,15,16,17,18,21,23,24,25,26,27,28,29\n",
      "B\t0,1,2,3,5,6,7,8,9,10,11,12,15,16,17,18,19,20,21,22,23,25,26,27,29\n",
      "C\t0,1,3,4,5,6,7,9,10,11,12,14,15,17,20,21,22,23,25,28,29\n",
      "D\t0,1,3,4,5,6,6,7,8,9,9,10,11,12,12,13,14,15,16,17,18,19,19,20,20,21,23,23,24,26,26,27,28,29,29\n",
      "F\t0,1,2,6,7,8,9,11,12,13,15,17,18,19,20,21,22,23,24,25,26,27,28,29\n",
      "G\t2,4,6,7,9,11,12,14,15,17,20,21,22,24,25,26,27,29\n",
      "H\t0,1,2,4,5,6,7,10,11,12,15,17,18,20,22,23,24,25,26,27,28,29\n",
      "I\t0,1,2,4,7,8,9,11,15,16,18,19,20,22,25,26,27\n"
     ]
    }
   ],
   "source": [
    "!cat ./data.csv | ./mapper2.py | sort | ./reducer2.py"
   ]
  },
  {
   "cell_type": "code",
   "execution_count": 89,
   "metadata": {},
   "outputs": [
    {
     "name": "stdout",
     "output_type": "stream",
     "text": [
      "0, 2, 1\n"
     ]
    }
   ],
   "source": [
    "diccionario = {'A':[], 'B':[], 'C':[], 'D':[], 'F':[], 'G':[], 'H':[], 'I':[]}\n",
    "diccionario['A']=[0,2,1]\n",
    "print(', '.join(str(e) for e in (diccionario['A'])))"
   ]
  },
  {
   "cell_type": "code",
   "execution_count": null,
   "metadata": {},
   "outputs": [],
   "source": []
  },
  {
   "cell_type": "code",
   "execution_count": null,
   "metadata": {},
   "outputs": [],
   "source": []
  }
 ],
 "metadata": {
  "kernelspec": {
   "display_name": "Python 3",
   "language": "python",
   "name": "python3"
  },
  "language_info": {
   "codemirror_mode": {
    "name": "ipython",
    "version": 3
   },
   "file_extension": ".py",
   "mimetype": "text/x-python",
   "name": "python",
   "nbconvert_exporter": "python",
   "pygments_lexer": "ipython3",
   "version": "3.6.9"
  }
 },
 "nbformat": 4,
 "nbformat_minor": 4
}
