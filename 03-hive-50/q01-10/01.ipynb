{
 "cells": [
  {
   "cell_type": "code",
   "execution_count": 3,
   "metadata": {},
   "outputs": [],
   "source": [
    "%load_ext bigdata\n",
    "%hive_start\n",
    "%timeout 300"
   ]
  },
  {
   "cell_type": "code",
   "execution_count": 7,
   "metadata": {},
   "outputs": [
    {
     "name": "stdout",
     "output_type": "stream",
     "text": [
      "SLF4J: Class path contains multiple SLF4J bindings.\n",
      "SLF4J: Found binding in [jar:file:/usr/local/hive/lib/log4j-slf4j-impl-2.6.2.jar!/org/slf4j/impl/StaticLoggerBinder.class]\n",
      "SLF4J: Found binding in [jar:file:/usr/local/hadoop/share/hadoop/common/lib/slf4j-log4j12-1.7.10.jar!/org/slf4j/impl/StaticLoggerBinder.class]\n",
      "SLF4J: See http://www.slf4j.org/codes.html#multiple_bindings for an explanation.\n",
      "SLF4J: Actual binding is of type [org.apache.logging.slf4j.Log4jLoggerFactory]\n",
      "SLF4J: Class path contains multiple SLF4J bindings.\n",
      "SLF4J: Found binding in [jar:file:/usr/local/hive/lib/log4j-slf4j-impl-2.6.2.jar!/org/slf4j/impl/StaticLoggerBinder.class]\n",
      "SLF4J: Found binding in [jar:file:/usr/local/hadoop/share/hadoop/common/lib/slf4j-log4j12-1.7.10.jar!/org/slf4j/impl/StaticLoggerBinder.class]\n",
      "SLF4J: See http://www.slf4j.org/codes.html#multiple_bindings for an explanation.\n",
      "SLF4J: Actual binding is of type [org.apache.logging.slf4j.Log4jLoggerFactory]\n",
      "FAILED: SemanticException org.apache.hadoop.hive.ql.metadata.HiveException: java.lang.RuntimeException: Unable to instantiate org.apache.hadoop.hive.ql.metadata.SessionHiveMetaStoreClient\n"
     ]
    }
   ],
   "source": [
    "!hive -S -e 'source question.hql'"
   ]
  },
  {
   "cell_type": "code",
   "execution_count": 4,
   "metadata": {},
   "outputs": [
    {
     "name": "stdout",
     "output_type": "stream",
     "text": [
      "ls: `/output': No such file or directory\n"
     ]
    }
   ],
   "source": [
    "!hdfs dfs -ls /output"
   ]
  },
  {
   "cell_type": "code",
   "execution_count": 8,
   "metadata": {},
   "outputs": [
    {
     "name": "stdout",
     "output_type": "stream",
     "text": [
      "A,12\n",
      "B,9\n",
      "C,4\n",
      "D,1\n",
      "E,13\n"
     ]
    }
   ],
   "source": [
    "!cat output/*"
   ]
  },
  {
   "cell_type": "code",
   "execution_count": null,
   "metadata": {},
   "outputs": [],
   "source": []
  },
  {
   "cell_type": "code",
   "execution_count": 14,
   "metadata": {},
   "outputs": [
    {
     "name": "stdout",
     "output_type": "stream",
     "text": [
      "DROP TABLE IF EXISTS data;\n",
      "OK\n",
      "Time taken: 0.55 seconds\n",
      "DROP TABLE IF EXISTS result;\n",
      "OK\n",
      "Time taken: 0.033 seconds\n",
      "CREATE TABLE data (letra STRING, fecha STRING, num INT)\n",
      "ROW FORMAT DELIMITED\n",
      "FIELDS TERMINATED BY '\\t'\n",
      "TBLPROPERTIES (\"skip.header.line.count\"=\"1\");\n",
      "OK\n",
      "Time taken: 1.342 seconds\n",
      "LOAD DATA LOCAL INPATH \"data.tsv\" OVERWRITE INTO TABLE data;\n",
      "Loading data to table default.data\n",
      "OK\n",
      "Time taken: 3.75 seconds\n",
      "CREATE TABLE result\n",
      "AS\n",
      "    SELECT CONCAT (letra,',', count(letra))\n",
      "    FROM \n",
      "        data\n",
      "GROUP BY \n",
      "    letra;\n",
      "WARNING: Hive-on-MR is deprecated in Hive 2 and may not be available in the future versions. Consider using a different execution engine (i.e. spark, tez) or using Hive 1.X releases.\n",
      "Query ID = root_20200216082334_40efc88c-21ea-4b23-99a1-27552ad2d32a\n",
      "Total jobs = 1\n",
      "Launching Job 1 out of 1\n",
      "Number of reduce tasks not specified. Estimated from input data size: 1\n",
      "In order to change the average load for a reducer (in bytes):\n",
      "  set hive.exec.reducers.bytes.per.reducer=<number>\n",
      "In order to limit the maximum number of reducers:\n",
      "  set hive.exec.reducers.max=<number>\n",
      "In order to set a constant number of reducers:\n",
      "  set mapreduce.job.reduces=<number>\n",
      "Starting Job = job_1581840323809_0001, Tracking URL = http://1fbb162abf0e:8088/proxy/application_1581840323809_0001/\n",
      "Kill Command = /usr/local/hadoop/bin/hadoop job  -kill job_1581840323809_0001\n",
      "Hadoop job information for Stage-1: number of mappers: 1; number of reducers: 1\n",
      "2020-02-16 08:24:03,402 Stage-1 map = 0%,  reduce = 0%\n",
      "2020-02-16 08:24:14,673 Stage-1 map = 100%,  reduce = 0%, Cumulative CPU 4.19 sec\n",
      "2020-02-16 08:24:29,073 Stage-1 map = 100%,  reduce = 100%, Cumulative CPU 12.89 sec\n",
      "MapReduce Total cumulative CPU time: 12 seconds 890 msec\n",
      "Ended Job = job_1581840323809_0001\n",
      "Moving data to directory hdfs://0.0.0.0:9000/user/hive/warehouse/result\n",
      "MapReduce Jobs Launched: \n",
      "Stage-Stage-1: Map: 1  Reduce: 1   Cumulative CPU: 12.89 sec   HDFS Read: 8782 HDFS Write: 92 SUCCESS\n",
      "Total MapReduce CPU Time Spent: 12 seconds 890 msec\n",
      "OK\n",
      "Time taken: 57.819 seconds\n",
      "INSERT OVERWRITE DIRECTORY '/output'\n",
      "ROW FORMAT DELIMITED FIELDS TERMINATED BY ','\n",
      "SELECT * FROM result;\n",
      "WARNING: Hive-on-MR is deprecated in Hive 2 and may not be available in the future versions. Consider using a different execution engine (i.e. spark, tez) or using Hive 1.X releases.\n",
      "Query ID = root_20200216082433_6ad07db0-9e0d-456c-9191-38573415a71c\n",
      "Total jobs = 3\n",
      "Launching Job 1 out of 3\n",
      "Number of reduce tasks is set to 0 since there's no reduce operator\n",
      "Starting Job = job_1581840323809_0002, Tracking URL = http://1fbb162abf0e:8088/proxy/application_1581840323809_0002/\n",
      "Kill Command = /usr/local/hadoop/bin/hadoop job  -kill job_1581840323809_0002\n",
      "Hadoop job information for Stage-1: number of mappers: 1; number of reducers: 0\n",
      "2020-02-16 08:24:52,294 Stage-1 map = 0%,  reduce = 0%\n",
      "2020-02-16 08:25:03,007 Stage-1 map = 100%,  reduce = 0%, Cumulative CPU 4.01 sec\n",
      "MapReduce Total cumulative CPU time: 4 seconds 10 msec\n",
      "Ended Job = job_1581840323809_0002\n",
      "Stage-3 is selected by condition resolver.\n",
      "Stage-2 is filtered out by condition resolver.\n",
      "Stage-4 is filtered out by condition resolver.\n",
      "Moving data to directory hdfs://0.0.0.0:9000/output/.hive-staging_hive_2020-02-16_08-24-33_042_3884496277276486469-1/-ext-10000\n",
      "Moving data to directory /output\n",
      "MapReduce Jobs Launched: \n",
      "Stage-Stage-1: Map: 1   Cumulative CPU: 4.01 sec   HDFS Read: 3173 HDFS Write: 22 SUCCESS\n",
      "Total MapReduce CPU Time Spent: 4 seconds 10 msec\n",
      "OK\n",
      "Time taken: 31.276 seconds\n"
     ]
    }
   ],
   "source": [
    "%%hive\n",
    "DROP TABLE IF EXISTS data;\n",
    "DROP TABLE IF EXISTS result;\n",
    "CREATE TABLE data (letra STRING, fecha STRING, num INT)\n",
    "ROW FORMAT DELIMITED\n",
    "FIELDS TERMINATED BY '\\t'\n",
    "TBLPROPERTIES (\"skip.header.line.count\"=\"1\");\n",
    "LOAD DATA LOCAL INPATH \"data.tsv\" OVERWRITE INTO TABLE data;\n",
    "CREATE TABLE result\n",
    "AS\n",
    "    SELECT CONCAT (letra,',', count(letra))\n",
    "    FROM data\n",
    "    GROUP BY letra;\n",
    "INSERT OVERWRITE DIRECTORY '/output'\n",
    "ROW FORMAT DELIMITED FIELDS TERMINATED BY ','\n",
    "SELECT * FROM result;"
   ]
  },
  {
   "cell_type": "code",
   "execution_count": 2,
   "metadata": {},
   "outputs": [
    {
     "name": "stdout",
     "output_type": "stream",
     "text": [
      "ls: `/output': No such file or directory\n"
     ]
    }
   ],
   "source": []
  },
  {
   "cell_type": "code",
   "execution_count": null,
   "metadata": {},
   "outputs": [],
   "source": []
  },
  {
   "cell_type": "code",
   "execution_count": null,
   "metadata": {},
   "outputs": [],
   "source": []
  },
  {
   "cell_type": "code",
   "execution_count": null,
   "metadata": {},
   "outputs": [],
   "source": []
  },
  {
   "cell_type": "code",
   "execution_count": null,
   "metadata": {},
   "outputs": [],
   "source": []
  },
  {
   "cell_type": "code",
   "execution_count": 1,
   "metadata": {},
   "outputs": [
    {
     "name": "stderr",
     "output_type": "stream",
     "text": [
      "UsageError: Line magic function `%hive_quit` not found.\n"
     ]
    }
   ],
   "source": [
    "%hive_quit"
   ]
  },
  {
   "cell_type": "code",
   "execution_count": null,
   "metadata": {},
   "outputs": [],
   "source": []
  }
 ],
 "metadata": {
  "kernelspec": {
   "display_name": "Python 3",
   "language": "python",
   "name": "python3"
  },
  "language_info": {
   "codemirror_mode": {
    "name": "ipython",
    "version": 3
   },
   "file_extension": ".py",
   "mimetype": "text/x-python",
   "name": "python",
   "nbconvert_exporter": "python",
   "pygments_lexer": "ipython3",
   "version": "3.6.9"
  }
 },
 "nbformat": 4,
 "nbformat_minor": 4
}
