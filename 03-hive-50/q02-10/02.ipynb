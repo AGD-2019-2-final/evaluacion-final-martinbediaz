{
 "cells": [
  {
   "cell_type": "code",
   "execution_count": 3,
   "metadata": {},
   "outputs": [],
   "source": [
    "%load_ext bigdata\n",
    "%hive_start\n",
    "%timeout 300"
   ]
  },
  {
   "cell_type": "code",
   "execution_count": 19,
   "metadata": {},
   "outputs": [
    {
     "name": "stdout",
     "output_type": "stream",
     "text": [
      "SLF4J: Class path contains multiple SLF4J bindings.\n",
      "SLF4J: Found binding in [jar:file:/usr/local/hive/lib/log4j-slf4j-impl-2.6.2.jar!/org/slf4j/impl/StaticLoggerBinder.class]\n",
      "SLF4J: Found binding in [jar:file:/usr/local/hadoop/share/hadoop/common/lib/slf4j-log4j12-1.7.10.jar!/org/slf4j/impl/StaticLoggerBinder.class]\n",
      "SLF4J: See http://www.slf4j.org/codes.html#multiple_bindings for an explanation.\n",
      "SLF4J: Actual binding is of type [org.apache.logging.slf4j.Log4jLoggerFactory]\n",
      "SLF4J: Class path contains multiple SLF4J bindings.\n",
      "SLF4J: Found binding in [jar:file:/usr/local/hive/lib/log4j-slf4j-impl-2.6.2.jar!/org/slf4j/impl/StaticLoggerBinder.class]\n",
      "SLF4J: Found binding in [jar:file:/usr/local/hadoop/share/hadoop/common/lib/slf4j-log4j12-1.7.10.jar!/org/slf4j/impl/StaticLoggerBinder.class]\n",
      "SLF4J: See http://www.slf4j.org/codes.html#multiple_bindings for an explanation.\n",
      "SLF4J: Actual binding is of type [org.apache.logging.slf4j.Log4jLoggerFactory]\n",
      "FAILED: SemanticException org.apache.hadoop.hive.ql.metadata.HiveException: java.lang.RuntimeException: Unable to instantiate org.apache.hadoop.hive.ql.metadata.SessionHiveMetaStoreClient\n"
     ]
    }
   ],
   "source": [
    "!hive -S -e 'source question.hql'"
   ]
  },
  {
   "cell_type": "code",
   "execution_count": 16,
   "metadata": {},
   "outputs": [
    {
     "name": "stdout",
     "output_type": "stream",
     "text": [
      "Found 1 items\n",
      "-rwxr-xr-x   1 root supergroup        637 2020-02-16 09:06 /output/000000_0\n"
     ]
    }
   ],
   "source": [
    "!hdfs dfs -ls /output"
   ]
  },
  {
   "cell_type": "code",
   "execution_count": 17,
   "metadata": {},
   "outputs": [
    {
     "name": "stdout",
     "output_type": "stream",
     "text": [
      "cat: 'output/*': No such file or directory\n"
     ]
    }
   ],
   "source": [
    "!cat output/*"
   ]
  },
  {
   "cell_type": "code",
   "execution_count": null,
   "metadata": {},
   "outputs": [],
   "source": []
  },
  {
   "cell_type": "code",
   "execution_count": 7,
   "metadata": {},
   "outputs": [
    {
     "name": "stdout",
     "output_type": "stream",
     "text": [
      "DROP TABLE IF EXISTS data;\n",
      "SLF4J: Class path contains multiple SLF4J bindings.\n",
      "SLF4J: Found binding in [jar:file:/usr/local/hive/lib/log4j-slf4j-impl-2.6.2.jar!/org/slf4j/impl/StaticLoggerBinder.class]\n",
      "SLF4J: Found binding in [jar:file:/usr/local/hadoop/share/hadoop/common/lib/slf4j-log4j12-1.7.10.jar!/org/slf4j/impl/StaticLoggerBinder.class]\n",
      "SLF4J: See http://www.slf4j.org/codes.html#multiple_bindings for an explanation.\n",
      "SLF4J: Actual binding is of type [org.apache.logging.slf4j.Log4jLoggerFactory]\n",
      "copyToLocal: `data': No such file or directory\n",
      "Command failed with exit code = 1\n",
      "DROP TABLE IF EXISTS result;\n",
      "OK\n",
      "Time taken: 0.42 seconds\n",
      "CREATE TABLE data (letra STRING, fecha STRING, cantidad INT)\n",
      "ROW FORMAT DELIMITED FIELDS TERMINATED BY '\\t';\n",
      "FAILED: Execution Error, return code 1 from org.apache.hadoop.hive.ql.exec.DDLTask. AlreadyExistsException(message:Table data already exists)\n",
      "LOAD DATA LOCAL INPATH 'data.tsv' OVERWRITE INTO TABLE data;\n",
      "Loading data to table default.data\n",
      "OK\n",
      "Time taken: 1.551 seconds\n",
      "CREATE TABLE result\n",
      "AS\n",
      "    SELECT letra, cantidad, fecha \n",
      "    FROM data \n",
      "    ORDER BY 1 ASC, 2 ASC, 3 ASC;\n",
      "WARNING: Hive-on-MR is deprecated in Hive 2 and may not be available in the future versions. Consider using a different execution engine (i.e. spark, tez) or using Hive 1.X releases.\n",
      "Query ID = root_20200216090513_dd51c127-4a0d-47e7-9db1-acb7c6bb374a\n",
      "Total jobs = 1\n",
      "Launching Job 1 out of 1\n",
      "Number of reduce tasks determined at compile time: 1\n",
      "In order to change the average load for a reducer (in bytes):\n",
      "  set hive.exec.reducers.bytes.per.reducer=<number>\n",
      "In order to limit the maximum number of reducers:\n",
      "  set hive.exec.reducers.max=<number>\n",
      "In order to set a constant number of reducers:\n",
      "  set mapreduce.job.reduces=<number>\n",
      "Starting Job = job_1581843539282_0005, Tracking URL = http://cb4f3341c190:8088/proxy/application_1581843539282_0005/\n",
      "Kill Command = /usr/local/hadoop/bin/hadoop job  -kill job_1581843539282_0005\n",
      "Hadoop job information for Stage-1: number of mappers: 1; number of reducers: 1\n",
      "2020-02-16 09:05:29,005 Stage-1 map = 0%,  reduce = 0%\n",
      "2020-02-16 09:05:38,539 Stage-1 map = 100%,  reduce = 0%, Cumulative CPU 3.24 sec\n",
      "2020-02-16 09:05:49,019 Stage-1 map = 100%,  reduce = 100%, Cumulative CPU 9.32 sec\n",
      "MapReduce Total cumulative CPU time: 9 seconds 320 msec\n",
      "Ended Job = job_1581843539282_0005\n",
      "Moving data to directory hdfs://0.0.0.0:9000/user/hive/warehouse/result\n",
      "MapReduce Jobs Launched: \n",
      "Stage-Stage-1: Map: 1  Reduce: 1   Cumulative CPU: 9.32 sec   HDFS Read: 7843 HDFS Write: 708 SUCCESS\n",
      "Total MapReduce CPU Time Spent: 9 seconds 320 msec\n",
      "OK\n",
      "Time taken: 38.548 seconds\n",
      "D BY ','VERWRITE DIRECTORY '/output' ROW FORMAT DELIMITED FIELDS TERMINATE \n",
      "SELECT  letra, fecha, cantidad FROM result;\n",
      "WARNING: Hive-on-MR is deprecated in Hive 2 and may not be available in the future versions. Consider using a different execution engine (i.e. spark, tez) or using Hive 1.X releases.\n",
      "Query ID = root_20200216090552_afaa43a1-d963-4230-8237-4351414b9dec\n",
      "Total jobs = 3\n",
      "Launching Job 1 out of 3\n",
      "Number of reduce tasks is set to 0 since there's no reduce operator\n",
      "Starting Job = job_1581843539282_0006, Tracking URL = http://cb4f3341c190:8088/proxy/application_1581843539282_0006/\n",
      "Kill Command = /usr/local/hadoop/bin/hadoop job  -kill job_1581843539282_0006\n",
      "Hadoop job information for Stage-1: number of mappers: 1; number of reducers: 0\n",
      "2020-02-16 09:06:08,895 Stage-1 map = 0%,  reduce = 0%\n",
      "2020-02-16 09:06:18,464 Stage-1 map = 100%,  reduce = 0%, Cumulative CPU 3.35 sec\n",
      "MapReduce Total cumulative CPU time: 3 seconds 350 msec\n",
      "Ended Job = job_1581843539282_0006\n",
      "Stage-3 is selected by condition resolver.\n",
      "Stage-2 is filtered out by condition resolver.\n",
      "Stage-4 is filtered out by condition resolver.\n",
      "Moving data to directory hdfs://0.0.0.0:9000/output/.hive-staging_hive_2020-02-16_09-05-52_404_1811773894512274403-1/-ext-10000\n",
      "Moving data to directory /output\n",
      "MapReduce Jobs Launched: \n",
      "Stage-Stage-1: Map: 1   Cumulative CPU: 3.35 sec   HDFS Read: 4093 HDFS Write: 637 SUCCESS\n",
      "Total MapReduce CPU Time Spent: 3 seconds 350 msec\n",
      "OK\n",
      "Time taken: 27.295 seconds\n",
      "!hadoop fs -copyToLocal /output output\n"
     ]
    }
   ],
   "source": [
    "%%hive\n",
    "DROP TABLE IF EXISTS data;\n",
    "DROP TABLE IF EXISTS result;\n",
    "CREATE TABLE data (letra STRING, fecha STRING, num INT)\n",
    "ROW FORMAT DELIMITED FIELDS TERMINATED BY '\\t';\n",
    "LOAD DATA LOCAL INPATH 'data.tsv' OVERWRITE INTO TABLE data;\n",
    "\n",
    "CREATE TABLE result\n",
    "AS\n",
    "    SELECT letra, num, fecha \n",
    "    FROM data \n",
    "    ORDER BY 1 ASC, 2 ASC, 3 ASC;\n",
    "INSERT OVERWRITE DIRECTORY '/output' ROW FORMAT DELIMITED FIELDS TERMINATED BY ','\n",
    "SELECT  letra, fecha, cantidad FROM result;\n",
    "\n",
    "!hadoop fs -copyToLocal /output output"
   ]
  },
  {
   "cell_type": "code",
   "execution_count": 8,
   "metadata": {},
   "outputs": [
    {
     "name": "stdout",
     "output_type": "stream",
     "text": [
      "Found 1 items\n",
      "-rwxr-xr-x   1 root supergroup        637 2020-02-16 09:06 /output/000000_0\n"
     ]
    }
   ],
   "source": []
  },
  {
   "cell_type": "code",
   "execution_count": 10,
   "metadata": {},
   "outputs": [
    {
     "name": "stdout",
     "output_type": "stream",
     "text": [
      "cat: 'output/*': No such file or directory\n"
     ]
    }
   ],
   "source": []
  },
  {
   "cell_type": "code",
   "execution_count": 1,
   "metadata": {},
   "outputs": [
    {
     "name": "stderr",
     "output_type": "stream",
     "text": [
      "UsageError: Line magic function `%hive_quit` not found.\n"
     ]
    }
   ],
   "source": [
    "%hive_quit"
   ]
  },
  {
   "cell_type": "code",
   "execution_count": null,
   "metadata": {},
   "outputs": [],
   "source": []
  }
 ],
 "metadata": {
  "kernelspec": {
   "display_name": "Python 3",
   "language": "python",
   "name": "python3"
  },
  "language_info": {
   "codemirror_mode": {
    "name": "ipython",
    "version": 3
   },
   "file_extension": ".py",
   "mimetype": "text/x-python",
   "name": "python",
   "nbconvert_exporter": "python",
   "pygments_lexer": "ipython3",
   "version": "3.6.9"
  }
 },
 "nbformat": 4,
 "nbformat_minor": 4
}
