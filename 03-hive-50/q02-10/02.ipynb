{
 "cells": [
  {
   "cell_type": "code",
   "execution_count": null,
   "metadata": {},
   "outputs": [],
   "source": [
    "%load_ext bigdata\n",
    "%hive_start\n",
    "%timeout 300"
   ]
  },
  {
   "cell_type": "code",
   "execution_count": null,
   "metadata": {},
   "outputs": [],
   "source": [
    "%%hive\n",
    "DROP TABLE IF EXISTS data;\n",
    "DROP TABLE IF EXISTS result;\n",
    "CREATE TABLE datos (letra STRING, fecha STRING, cantidad INT)\n",
    "ROW FORMAT DELIMITED FIELDS TERMINATED BY '\\t';\n",
    "LOAD DATA LOCAL INPATH 'data.tsv' OVERWRITE INTO TABLE data;\n",
    "\n",
    "CREATE TABLE result\n",
    "AS\n",
    "    SELECT letra, cantidad, fecha \n",
    "    FROM datos \n",
    "    ORDER BY 1 ASC, 2 ASC, 3 ASC;\n",
    "INSERT OVERWRITE DIRECTORY '/output' ROW FORMAT DELIMITED FIELDS TERMINATED BY ','\n",
    "SELECT  letra, fecha, cantidad FROM result;\n",
    "\n",
    "!hadoop fs -copyToLocal /output output"
   ]
  },
  {
   "cell_type": "code",
   "execution_count": null,
   "metadata": {},
   "outputs": [],
   "source": [
    "%hive_quit"
   ]
  }
 ],
 "metadata": {
  "kernelspec": {
   "display_name": "Python 3",
   "language": "python",
   "name": "python3"
  },
  "language_info": {
   "codemirror_mode": {
    "name": "ipython",
    "version": 3
   },
   "file_extension": ".py",
   "mimetype": "text/x-python",
   "name": "python",
   "nbconvert_exporter": "python",
   "pygments_lexer": "ipython3",
   "version": "3.6.9"
  }
 },
 "nbformat": 4,
 "nbformat_minor": 4
}
